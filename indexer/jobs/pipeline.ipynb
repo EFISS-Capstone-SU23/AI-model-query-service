{
 "cells": [
  {
   "cell_type": "code",
   "execution_count": null,
   "metadata": {},
   "outputs": [],
   "source": [
    "# %pip install protobuf==3.20.*"
   ]
  },
  {
   "cell_type": "code",
   "execution_count": 1,
   "metadata": {},
   "outputs": [
    {
     "name": "stdout",
     "output_type": "stream",
     "text": [
      "/home/saplab/thaiminhpv/EFISS/AI-model-query-service\n"
     ]
    }
   ],
   "source": [
    "%cd ../.."
   ]
  },
  {
   "cell_type": "code",
   "execution_count": 2,
   "metadata": {},
   "outputs": [],
   "source": [
    "\n",
    "\"\"\"\n",
    "This script uses YOLOv8 to offline crop images and wraps it into a HuggingFace IterableDataset\n",
    "\"\"\"\n",
    "\n",
    "import numpy as np\n",
    "import cv2\n",
    "import pandas as pd\n",
    "import os\n",
    "from tqdm.auto import tqdm\n",
    "from datasets import Dataset, IterableDataset\n",
    "from ultralytics import YOLO\n",
    "from google.cloud import storage\n",
    "import torch\n",
    "from transformers import ViTImageProcessor, ViTForImageClassification, ViTFeatureExtractor\n",
    "import torch.nn as nn\n",
    "\n",
    "import datasets\n",
    "datasets.disable_caching()\n",
    "\n",
    "# from torch.multiprocessing import Pool, Process, set_start_method\n",
    "# try:\n",
    "#      set_start_method('spawn')\n",
    "# except RuntimeError:\n",
    "#     pass\n",
    "\n",
    "TOTAL_SHARD = 24\n",
    "SHARD_ID = 0\n",
    "\n",
    "# Define your YOLOv8-related functions here\n",
    "def initialize_yolov8_model():\n",
    "    model = YOLO('torchscripts_models/yolo/yolov8n_12ep_24-7_32.5mAP.pt')\n",
    "    model.to('cuda:0')\n",
    "    return model\n",
    "\n",
    "def crop_image_with_yolov8(model, img):\n",
    "    # YOLOv8 cropping logic here\n",
    "    result = model.predict(\n",
    "        source=img,\n",
    "        conf=0.3,\n",
    "        device='0',\n",
    "        save=False,\n",
    "        verbose=False\n",
    "    )[0]\n",
    "    # Crop and return images\n",
    "    cropped_images = []\n",
    "    for box in result.boxes.xyxy:\n",
    "        x, y, _x, _y = list(box.int())\n",
    "        cropped_images.append(result.orig_img[y:_y, x:_x])\n",
    "    return cropped_images\n",
    "\n",
    "output_dir = 'data/product_images/'\n",
    "\n",
    "# Set up GCS client\n",
    "client = storage.Client()\n",
    "bucket_name = 'efiss'\n",
    "bucket = client.get_bucket(bucket_name)\n",
    "def read_img_from_GCS(image_path) -> np.ndarray:\n",
    "    # Get blob from GCS\n",
    "    blob = bucket.blob(image_path)\n",
    "\n",
    "    # Read image from blob\n",
    "    print(f\"Dowloading {image_path} from GCS\")\n",
    "    img_bytes = blob.download_as_bytes()\n",
    "    img_array = np.frombuffer(img_bytes, dtype=np.uint8)\n",
    "    img = cv2.imdecode(img_array, cv2.IMREAD_COLOR)\n",
    "    print(f\"Downloaded {image_path} from GCS\")\n",
    "\n",
    "    return img"
   ]
  },
  {
   "cell_type": "code",
   "execution_count": 3,
   "metadata": {},
   "outputs": [],
   "source": [
    "model = initialize_yolov8_model()\n",
    "def crop_image_to_multiple_images(row) -> dict:\n",
    "    image_path = row['img_path']\n",
    "    img = read_img_from_GCS(row['img_path'])\n",
    "    img_name = image_path.split(\"/\")[-1].split(\".\")[0]\n",
    "\n",
    "    try:\n",
    "        cropped_images = crop_image_with_yolov8(model, img)\n",
    "    except Exception as e:\n",
    "        print(f\"Error cropping image {image_path}: {e}\")\n",
    "        cropped_images = []\n",
    "\n",
    "    cropped_image_paths = []\n",
    "    for i, cropped_image in enumerate(cropped_images):\n",
    "        cropped_image_path = os.path.join(output_dir, f\"{img_name}_crop{i}.jpg\")\n",
    "        # cv2.imwrite(cropped_image_path, cropped_image)\n",
    "        cropped_image_paths.append(cropped_image_path)\n",
    "\n",
    "    # return {'cropped_img_paths': cropped_image_paths, 'cropped_images': cropped_images}\n",
    "    print(f\"Finished cropping {image_path}: {len(cropped_images)} images\")\n",
    "    row['cropped_img_paths'] = cropped_image_paths\n",
    "    row['cropped_images'] = cropped_images\n",
    "    return row\n"
   ]
  },
  {
   "cell_type": "code",
   "execution_count": 4,
   "metadata": {},
   "outputs": [],
   "source": [
    "# row.keys()\n",
    "# row['cropped_img_paths']\n",
    "import matplotlib.pyplot as plt\n",
    "def plot_img(img: np.ndarray):\n",
    "    img = cv2.cvtColor(img, cv2.COLOR_BGR2RGB)\n",
    "    plt.imshow(img)\n",
    "    plt.show()\n",
    "# plot_img(row['cropped_images'][0])"
   ]
  },
  {
   "cell_type": "code",
   "execution_count": 5,
   "metadata": {},
   "outputs": [
    {
     "data": {
      "text/plain": [
       "Ellipsis"
      ]
     },
     "execution_count": 5,
     "metadata": {},
     "output_type": "execute_result"
    }
   ],
   "source": [
    "processor = ViTImageProcessor.from_pretrained('google/vit-base-patch16-224')\n",
    "ranking_model = ViTForImageClassification.from_pretrained('google/vit-base-patch16-224')\n",
    "ranking_model.classifier = nn.Identity()\n",
    "device = torch.device(\"cuda\" if torch.cuda.is_available() else \"cpu\")\n",
    "ranking_model.eval()\n",
    "ranking_model.to(device)\n",
    "..."
   ]
  },
  {
   "cell_type": "code",
   "execution_count": 6,
   "metadata": {},
   "outputs": [],
   "source": [
    "\n",
    "to_be_index: list[str] = []\n",
    "with open('to_be_index_efiss.txt', 'r') as f:\n",
    "    for line in f.readlines():\n",
    "        to_be_index.append(line.strip())\n",
    "\n",
    "# Convert to HuggingFace dataset\n",
    "dataset = Dataset.from_pandas(pd.DataFrame({'img_path': to_be_index}))"
   ]
  },
  {
   "cell_type": "code",
   "execution_count": 7,
   "metadata": {},
   "outputs": [
    {
     "data": {
      "text/plain": [
       "Dataset({\n",
       "    features: ['img_path'],\n",
       "    num_rows: 6635197\n",
       "})"
      ]
     },
     "execution_count": 7,
     "metadata": {},
     "output_type": "execute_result"
    }
   ],
   "source": [
    "dataset"
   ]
  },
  {
   "cell_type": "code",
   "execution_count": 8,
   "metadata": {},
   "outputs": [],
   "source": [
    "# dataset = dataset.shard(num_shards=TOTAL_SHARD, index=SHARD_ID)\n",
    "dataset = Dataset.from_dict(dataset[:34])"
   ]
  },
  {
   "cell_type": "code",
   "execution_count": 9,
   "metadata": {},
   "outputs": [],
   "source": [
    "dataset\n",
    "total_len = len(dataset)"
   ]
  },
  {
   "cell_type": "code",
   "execution_count": 10,
   "metadata": {},
   "outputs": [],
   "source": [
    "# dataset = dataset.to_iterable_dataset()"
   ]
  },
  {
   "cell_type": "code",
   "execution_count": 110,
   "metadata": {},
   "outputs": [
    {
     "ename": "TypeError",
     "evalue": "map() got an unexpected keyword argument 'return_tensors'",
     "output_type": "error",
     "traceback": [
      "\u001b[0;31m---------------------------------------------------------------------------\u001b[0m",
      "\u001b[0;31mTypeError\u001b[0m                                 Traceback (most recent call last)",
      "\u001b[1;32m/home/saplab/thaiminhpv/EFISS/AI-model-query-service/indexer/jobs/pipeline.ipynb Cell 12\u001b[0m in \u001b[0;36m<cell line: 1>\u001b[0;34m()\u001b[0m\n\u001b[0;32m----> <a href='vscode-notebook-cell://ssh-remote%2Bsaplab/home/saplab/thaiminhpv/EFISS/AI-model-query-service/indexer/jobs/pipeline.ipynb#X14sdnNjb2RlLXJlbW90ZQ%3D%3D?line=0'>1</a>\u001b[0m cropped_images \u001b[39m=\u001b[39m dataset\u001b[39m.\u001b[39;49mmap(crop_image_to_multiple_images, batched\u001b[39m=\u001b[39;49m\u001b[39mFalse\u001b[39;49;00m, remove_columns\u001b[39m=\u001b[39;49m[\u001b[39m'\u001b[39;49m\u001b[39mimg_path\u001b[39;49m\u001b[39m'\u001b[39;49m], return_tensors\u001b[39m=\u001b[39;49m\u001b[39m'\u001b[39;49m\u001b[39mpt\u001b[39;49m\u001b[39m'\u001b[39;49m)\n",
      "File \u001b[0;32m~/anaconda3/envs/thaiminhpv/lib/python3.9/site-packages/datasets/arrow_dataset.py:592\u001b[0m, in \u001b[0;36mtransmit_tasks.<locals>.wrapper\u001b[0;34m(*args, **kwargs)\u001b[0m\n\u001b[1;32m    590\u001b[0m     \u001b[39mself\u001b[39m: \u001b[39m\"\u001b[39m\u001b[39mDataset\u001b[39m\u001b[39m\"\u001b[39m \u001b[39m=\u001b[39m kwargs\u001b[39m.\u001b[39mpop(\u001b[39m\"\u001b[39m\u001b[39mself\u001b[39m\u001b[39m\"\u001b[39m)\n\u001b[1;32m    591\u001b[0m \u001b[39m# apply actual function\u001b[39;00m\n\u001b[0;32m--> 592\u001b[0m out: Union[\u001b[39m\"\u001b[39m\u001b[39mDataset\u001b[39m\u001b[39m\"\u001b[39m, \u001b[39m\"\u001b[39m\u001b[39mDatasetDict\u001b[39m\u001b[39m\"\u001b[39m] \u001b[39m=\u001b[39m func(\u001b[39mself\u001b[39;49m, \u001b[39m*\u001b[39;49margs, \u001b[39m*\u001b[39;49m\u001b[39m*\u001b[39;49mkwargs)\n\u001b[1;32m    593\u001b[0m datasets: List[\u001b[39m\"\u001b[39m\u001b[39mDataset\u001b[39m\u001b[39m\"\u001b[39m] \u001b[39m=\u001b[39m \u001b[39mlist\u001b[39m(out\u001b[39m.\u001b[39mvalues()) \u001b[39mif\u001b[39;00m \u001b[39misinstance\u001b[39m(out, \u001b[39mdict\u001b[39m) \u001b[39melse\u001b[39;00m [out]\n\u001b[1;32m    594\u001b[0m \u001b[39mfor\u001b[39;00m dataset \u001b[39min\u001b[39;00m datasets:\n\u001b[1;32m    595\u001b[0m     \u001b[39m# Remove task templates if a column mapping of the template is no longer valid\u001b[39;00m\n",
      "File \u001b[0;32m~/anaconda3/envs/thaiminhpv/lib/python3.9/site-packages/datasets/arrow_dataset.py:557\u001b[0m, in \u001b[0;36mtransmit_format.<locals>.wrapper\u001b[0;34m(*args, **kwargs)\u001b[0m\n\u001b[1;32m    550\u001b[0m self_format \u001b[39m=\u001b[39m {\n\u001b[1;32m    551\u001b[0m     \u001b[39m\"\u001b[39m\u001b[39mtype\u001b[39m\u001b[39m\"\u001b[39m: \u001b[39mself\u001b[39m\u001b[39m.\u001b[39m_format_type,\n\u001b[1;32m    552\u001b[0m     \u001b[39m\"\u001b[39m\u001b[39mformat_kwargs\u001b[39m\u001b[39m\"\u001b[39m: \u001b[39mself\u001b[39m\u001b[39m.\u001b[39m_format_kwargs,\n\u001b[1;32m    553\u001b[0m     \u001b[39m\"\u001b[39m\u001b[39mcolumns\u001b[39m\u001b[39m\"\u001b[39m: \u001b[39mself\u001b[39m\u001b[39m.\u001b[39m_format_columns,\n\u001b[1;32m    554\u001b[0m     \u001b[39m\"\u001b[39m\u001b[39moutput_all_columns\u001b[39m\u001b[39m\"\u001b[39m: \u001b[39mself\u001b[39m\u001b[39m.\u001b[39m_output_all_columns,\n\u001b[1;32m    555\u001b[0m }\n\u001b[1;32m    556\u001b[0m \u001b[39m# apply actual function\u001b[39;00m\n\u001b[0;32m--> 557\u001b[0m out: Union[\u001b[39m\"\u001b[39m\u001b[39mDataset\u001b[39m\u001b[39m\"\u001b[39m, \u001b[39m\"\u001b[39m\u001b[39mDatasetDict\u001b[39m\u001b[39m\"\u001b[39m] \u001b[39m=\u001b[39m func(\u001b[39mself\u001b[39;49m, \u001b[39m*\u001b[39;49margs, \u001b[39m*\u001b[39;49m\u001b[39m*\u001b[39;49mkwargs)\n\u001b[1;32m    558\u001b[0m datasets: List[\u001b[39m\"\u001b[39m\u001b[39mDataset\u001b[39m\u001b[39m\"\u001b[39m] \u001b[39m=\u001b[39m \u001b[39mlist\u001b[39m(out\u001b[39m.\u001b[39mvalues()) \u001b[39mif\u001b[39;00m \u001b[39misinstance\u001b[39m(out, \u001b[39mdict\u001b[39m) \u001b[39melse\u001b[39;00m [out]\n\u001b[1;32m    559\u001b[0m \u001b[39m# re-apply format to the output\u001b[39;00m\n",
      "\u001b[0;31mTypeError\u001b[0m: map() got an unexpected keyword argument 'return_tensors'"
     ]
    }
   ],
   "source": [
    "cropped_images = dataset.map(crop_image_to_multiple_images, batched=False, remove_columns=['img_path'])"
   ]
  },
  {
   "cell_type": "code",
   "execution_count": 12,
   "metadata": {},
   "outputs": [
    {
     "data": {
      "text/plain": [
       "Dataset({\n",
       "    features: ['cropped_img_paths', 'cropped_images'],\n",
       "    num_rows: 34\n",
       "})"
      ]
     },
     "execution_count": 12,
     "metadata": {},
     "output_type": "execute_result"
    }
   ],
   "source": [
    "cropped_images"
   ]
  },
  {
   "cell_type": "code",
   "execution_count": 101,
   "metadata": {},
   "outputs": [],
   "source": [
    "# tokenize\n",
    "def tokenize_function(row):\n",
    "    imgs: list[np.ndarray] = row[\"cropped_images\"][0]  # batch size 1\n",
    "    out = None\n",
    "    for img in imgs:\n",
    "        img = np.array(img, dtype=np.uint8)\n",
    "        img = cv2.cvtColor(img, cv2.COLOR_BGR2RGB)\n",
    "        inputs = processor(images=img, return_tensors=\"pt\")\n",
    "        inputs['pixel_values'] = [inputs['pixel_values'].squeeze()]\n",
    "        if not out:\n",
    "            out = inputs\n",
    "        else:\n",
    "            out['pixel_values'].append(inputs['pixel_values'][0])\n",
    "    if out:\n",
    "        out['cropped_img_paths'] = row['cropped_img_paths'][0] or []\n",
    "        return out\n",
    "    else:\n",
    "        return {'pixel_values': [], 'cropped_img_paths': []}\n",
    "        "
   ]
  },
  {
   "cell_type": "code",
   "execution_count": 102,
   "metadata": {},
   "outputs": [
    {
     "data": {
      "application/vnd.jupyter.widget-view+json": {
       "model_id": "981fd7d529b54775a9a20e1fbe676820",
       "version_major": 2,
       "version_minor": 0
      },
      "text/plain": [
       "Map:   0%|          | 0/34 [00:00<?, ? examples/s]"
      ]
     },
     "metadata": {},
     "output_type": "display_data"
    },
    {
     "name": "stdout",
     "output_type": "stream",
     "text": [
      "{'cropped_img_paths': [[]], 'cropped_images': [[]]}\n",
      "{'cropped_img_paths': [[]], 'cropped_images': [[]]}\n",
      "{'cropped_img_paths': [[]], 'cropped_images': [[]]}\n",
      "{'cropped_img_paths': [[]], 'cropped_images': [[]]}\n",
      "{'cropped_img_paths': [[]], 'cropped_images': [[]]}\n",
      "{'cropped_img_paths': [[]], 'cropped_images': [[]]}\n",
      "{'cropped_img_paths': [[]], 'cropped_images': [[]]}\n",
      "{'cropped_img_paths': [[]], 'cropped_images': [[]]}\n",
      "{'cropped_img_paths': [[]], 'cropped_images': [[]]}\n",
      "{'cropped_img_paths': [[]], 'cropped_images': [[]]}\n",
      "{'cropped_img_paths': [[]], 'cropped_images': [[]]}\n",
      "{'cropped_img_paths': [[]], 'cropped_images': [[]]}\n",
      "{'cropped_img_paths': [[]], 'cropped_images': [[]]}\n",
      "{'cropped_img_paths': [[]], 'cropped_images': [[]]}\n",
      "{'cropped_img_paths': [[]], 'cropped_images': [[]]}\n"
     ]
    }
   ],
   "source": [
    "tokenized_images = cropped_images.map(tokenize_function, batched=True, batch_size=1, remove_columns=['cropped_images'])"
   ]
  },
  {
   "cell_type": "code",
   "execution_count": 111,
   "metadata": {},
   "outputs": [],
   "source": [
    "tokenized_images.set_format(\"torch\", device=device)"
   ]
  },
  {
   "cell_type": "code",
   "execution_count": 112,
   "metadata": {},
   "outputs": [],
   "source": [
    "dataloader = torch.utils.data.DataLoader(tokenized_images, batch_size=16, num_workers=0)"
   ]
  },
  {
   "cell_type": "code",
   "execution_count": 113,
   "metadata": {},
   "outputs": [
    {
     "data": {
      "application/vnd.jupyter.widget-view+json": {
       "model_id": "1e28629cc49e4b50aafb26689be23141",
       "version_major": 2,
       "version_minor": 0
      },
      "text/plain": [
       "  0%|          | 0/34 [00:00<?, ?it/s]"
      ]
     },
     "metadata": {},
     "output_type": "display_data"
    }
   ],
   "source": [
    "out = []\n",
    "for i, row in enumerate(tqdm(dataloader, total=total_len)):\n",
    "    # print(row)\n",
    "    out.append(row)\n",
    "    if i == 10:\n",
    "        break"
   ]
  },
  {
   "cell_type": "code",
   "execution_count": null,
   "metadata": {},
   "outputs": [],
   "source": [
    "# TODO: insert to milvus"
   ]
  },
  {
   "cell_type": "code",
   "execution_count": 114,
   "metadata": {},
   "outputs": [
    {
     "data": {
      "text/plain": [
       "dict_keys(['cropped_img_paths', 'pixel_values'])"
      ]
     },
     "execution_count": 114,
     "metadata": {},
     "output_type": "execute_result"
    }
   ],
   "source": [
    "out[0].keys()"
   ]
  },
  {
   "cell_type": "code",
   "execution_count": null,
   "metadata": {},
   "outputs": [],
   "source": []
  }
 ],
 "metadata": {
  "kernelspec": {
   "display_name": "thaiminhpv",
   "language": "python",
   "name": "python3"
  },
  "language_info": {
   "codemirror_mode": {
    "name": "ipython",
    "version": 3
   },
   "file_extension": ".py",
   "mimetype": "text/x-python",
   "name": "python",
   "nbconvert_exporter": "python",
   "pygments_lexer": "ipython3",
   "version": "3.9.12"
  },
  "orig_nbformat": 4
 },
 "nbformat": 4,
 "nbformat_minor": 2
}
