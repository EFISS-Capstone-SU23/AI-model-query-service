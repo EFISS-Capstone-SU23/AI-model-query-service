{
 "cells": [
  {
   "cell_type": "code",
   "execution_count": 1,
   "metadata": {},
   "outputs": [
    {
     "name": "stdout",
     "output_type": "stream",
     "text": [
      "/home/saplab/thaiminhpv/EFISS/AI-model-query-service\n"
     ]
    }
   ],
   "source": [
    "%cd ../../.."
   ]
  },
  {
   "cell_type": "code",
   "execution_count": 2,
   "metadata": {},
   "outputs": [
    {
     "data": {
      "text/plain": [
       "Dataset({\n",
       "    features: ['img_path'],\n",
       "    num_rows: 10000\n",
       "})"
      ]
     },
     "execution_count": 2,
     "metadata": {},
     "output_type": "execute_result"
    }
   ],
   "source": [
    "from transformers import ViTImageProcessor, ViTForImageClassification, ViTFeatureExtractor\n",
    "from PIL import Image\n",
    "import torch\n",
    "import torch.nn as nn\n",
    "import faiss\n",
    "\n",
    "processor = ViTImageProcessor.from_pretrained('google/vit-base-patch16-224')\n",
    "model = ViTForImageClassification.from_pretrained('google/vit-base-patch16-224')\n",
    "model.classifier = nn.Identity()\n",
    "import torch\n",
    "import numpy as np\n",
    "# from torch.utils.data import Dataset, DataLoader\n",
    "import cv2\n",
    "import albumentations as A\n",
    "from albumentations.pytorch import ToTensorV2\n",
    "from tqdm import tqdm\n",
    "\n",
    "from PIL import ImageFile\n",
    "ImageFile.LOAD_TRUNCATED_IMAGES = True\n",
    "\n",
    "import pandas as pd\n",
    "df = pd.read_csv('data/shopee_crop_yolo/database.txt', sep=' ', nrows=10000, names=['img_path', 'label']).drop('label', axis=1)\n",
    "df\n",
    "from datasets import Dataset\n",
    "dataset = Dataset.from_pandas(df)\n",
    "dataset"
   ]
  },
  {
   "cell_type": "code",
   "execution_count": 3,
   "metadata": {},
   "outputs": [],
   "source": [
    "# def tokenize_function(examples):\n",
    "#     img = cv2.imread(examples[\"img_path\"])\n",
    "#     img = cv2.cvtColor(img, cv2.COLOR_BGR2RGB)\n",
    "#     inputs = processor(images=img, return_tensors=\"pt\")\n",
    "#     inputs['pixel_values'] = inputs['pixel_values'].squeeze()\n",
    "#     return inputs\n",
    "# tokenized_dataset = dataset.map(tokenize_function, batched=False, batch_size=100, writer_batch_size=100)\n",
    "# tokenized_dataset = tokenized_dataset.remove_columns(['img_path'])\n",
    "# # tokenized_dataset.save_to_disk(\"/media/saplab/MinhNVMe/relahash/temp/tokenized_dataset.hf\")\n",
    "# device = torch.device(\"cuda\" if torch.cuda.is_available() else \"cpu\")\n",
    "# tokenized_dataset = tokenized_dataset.with_format(\"torch\", device=device)\n",
    "# dataloader = torch.utils.data.DataLoader(tokenized_dataset, batch_size=32, shuffle=False)\n",
    "# model.eval()\n",
    "# ...\n",
    "# # logits.logits.shape\n",
    "\n",
    "# # quantizer = faiss.IndexFlatL2(768)\n",
    "\n",
    "# torch.save({\n",
    "#     \"embedding\": embeddings\n",
    "# }, '/media/saplab/MinhNVMe/relahash/temp/embeddings.pth')"
   ]
  },
  {
   "cell_type": "code",
   "execution_count": 4,
   "metadata": {},
   "outputs": [
    {
     "ename": "FileNotFoundError",
     "evalue": "[Errno 2] No such file or directory: '/media/saplab/MinhNVMe/relahash/temp/embeddings.pth'",
     "output_type": "error",
     "traceback": [
      "\u001b[0;31m---------------------------------------------------------------------------\u001b[0m",
      "\u001b[0;31mFileNotFoundError\u001b[0m                         Traceback (most recent call last)",
      "\u001b[1;32m/home/saplab/thaiminhpv/EFISS/AI-model-query-service/trainer/notebooks/vit/vit-retrieval.ipynb Cell 4\u001b[0m in \u001b[0;36m<cell line: 1>\u001b[0;34m()\u001b[0m\n\u001b[0;32m----> <a href='vscode-notebook-cell://ssh-remote%2Bsaplab/home/saplab/thaiminhpv/EFISS/AI-model-query-service/trainer/notebooks/vit/vit-retrieval.ipynb#W3sdnNjb2RlLXJlbW90ZQ%3D%3D?line=0'>1</a>\u001b[0m embeddings \u001b[39m=\u001b[39m torch\u001b[39m.\u001b[39;49mload(\u001b[39m'\u001b[39;49m\u001b[39m/media/saplab/MinhNVMe/relahash/temp/embeddings.pth\u001b[39;49m\u001b[39m'\u001b[39;49m)[\u001b[39m'\u001b[39m\u001b[39membedding\u001b[39m\u001b[39m'\u001b[39m]\n",
      "File \u001b[0;32m~/anaconda3/envs/thaiminhpv/lib/python3.9/site-packages/torch/serialization.py:771\u001b[0m, in \u001b[0;36mload\u001b[0;34m(f, map_location, pickle_module, weights_only, **pickle_load_args)\u001b[0m\n\u001b[1;32m    768\u001b[0m \u001b[39mif\u001b[39;00m \u001b[39m'\u001b[39m\u001b[39mencoding\u001b[39m\u001b[39m'\u001b[39m \u001b[39mnot\u001b[39;00m \u001b[39min\u001b[39;00m pickle_load_args\u001b[39m.\u001b[39mkeys():\n\u001b[1;32m    769\u001b[0m     pickle_load_args[\u001b[39m'\u001b[39m\u001b[39mencoding\u001b[39m\u001b[39m'\u001b[39m] \u001b[39m=\u001b[39m \u001b[39m'\u001b[39m\u001b[39mutf-8\u001b[39m\u001b[39m'\u001b[39m\n\u001b[0;32m--> 771\u001b[0m \u001b[39mwith\u001b[39;00m _open_file_like(f, \u001b[39m'\u001b[39;49m\u001b[39mrb\u001b[39;49m\u001b[39m'\u001b[39;49m) \u001b[39mas\u001b[39;00m opened_file:\n\u001b[1;32m    772\u001b[0m     \u001b[39mif\u001b[39;00m _is_zipfile(opened_file):\n\u001b[1;32m    773\u001b[0m         \u001b[39m# The zipfile reader is going to advance the current file position.\u001b[39;00m\n\u001b[1;32m    774\u001b[0m         \u001b[39m# If we want to actually tail call to torch.jit.load, we need to\u001b[39;00m\n\u001b[1;32m    775\u001b[0m         \u001b[39m# reset back to the original position.\u001b[39;00m\n\u001b[1;32m    776\u001b[0m         orig_position \u001b[39m=\u001b[39m opened_file\u001b[39m.\u001b[39mtell()\n",
      "File \u001b[0;32m~/anaconda3/envs/thaiminhpv/lib/python3.9/site-packages/torch/serialization.py:270\u001b[0m, in \u001b[0;36m_open_file_like\u001b[0;34m(name_or_buffer, mode)\u001b[0m\n\u001b[1;32m    268\u001b[0m \u001b[39mdef\u001b[39;00m \u001b[39m_open_file_like\u001b[39m(name_or_buffer, mode):\n\u001b[1;32m    269\u001b[0m     \u001b[39mif\u001b[39;00m _is_path(name_or_buffer):\n\u001b[0;32m--> 270\u001b[0m         \u001b[39mreturn\u001b[39;00m _open_file(name_or_buffer, mode)\n\u001b[1;32m    271\u001b[0m     \u001b[39melse\u001b[39;00m:\n\u001b[1;32m    272\u001b[0m         \u001b[39mif\u001b[39;00m \u001b[39m'\u001b[39m\u001b[39mw\u001b[39m\u001b[39m'\u001b[39m \u001b[39min\u001b[39;00m mode:\n",
      "File \u001b[0;32m~/anaconda3/envs/thaiminhpv/lib/python3.9/site-packages/torch/serialization.py:251\u001b[0m, in \u001b[0;36m_open_file.__init__\u001b[0;34m(self, name, mode)\u001b[0m\n\u001b[1;32m    250\u001b[0m \u001b[39mdef\u001b[39;00m \u001b[39m__init__\u001b[39m(\u001b[39mself\u001b[39m, name, mode):\n\u001b[0;32m--> 251\u001b[0m     \u001b[39msuper\u001b[39m(_open_file, \u001b[39mself\u001b[39m)\u001b[39m.\u001b[39m\u001b[39m__init__\u001b[39m(\u001b[39mopen\u001b[39;49m(name, mode))\n",
      "\u001b[0;31mFileNotFoundError\u001b[0m: [Errno 2] No such file or directory: '/media/saplab/MinhNVMe/relahash/temp/embeddings.pth'"
     ]
    }
   ],
   "source": [
    "embeddings = torch.load('/media/saplab/MinhNVMe/relahash/temp/embeddings_0.pt')['embedding']"
   ]
  },
  {
   "cell_type": "code",
   "execution_count": null,
   "metadata": {},
   "outputs": [
    {
     "data": {
      "text/plain": [
       "torch.Size([10000, 768])"
      ]
     },
     "execution_count": 5,
     "metadata": {},
     "output_type": "execute_result"
    }
   ],
   "source": [
    "embeddings.shape"
   ]
  },
  {
   "cell_type": "code",
   "execution_count": null,
   "metadata": {},
   "outputs": [],
   "source": [
    "index = faiss.IndexFlatL2(768)\n",
    "index.add(embeddings.numpy())"
   ]
  },
  {
   "cell_type": "code",
   "execution_count": null,
   "metadata": {},
   "outputs": [
    {
     "data": {
      "text/plain": [
       "{'pixel_values': tensor([[[[ 0.6627,  0.6627,  0.6627,  ...,  0.6157,  0.6157,  0.6078],\n",
       "          [ 0.6627,  0.6627,  0.6627,  ...,  0.6157,  0.6078,  0.6078],\n",
       "          [ 0.6627,  0.6627,  0.6627,  ...,  0.6157,  0.6157,  0.6078],\n",
       "          ...,\n",
       "          [ 0.6627,  0.6627,  0.6627,  ...,  0.7098,  0.6000,  0.4588],\n",
       "          [ 0.6627,  0.6627,  0.6627,  ...,  0.6863,  0.5922,  0.4353],\n",
       "          [ 0.6627,  0.6627,  0.6627,  ...,  0.6784,  0.5686,  0.4039]],\n",
       "\n",
       "         [[ 0.6314,  0.6314,  0.6314,  ...,  0.6235,  0.6235,  0.6157],\n",
       "          [ 0.6314,  0.6314,  0.6314,  ...,  0.6235,  0.6157,  0.6157],\n",
       "          [ 0.6314,  0.6314,  0.6314,  ...,  0.6235,  0.6235,  0.6157],\n",
       "          ...,\n",
       "          [ 0.6627,  0.6627,  0.6627,  ...,  0.3961,  0.2706,  0.0980],\n",
       "          [ 0.6627,  0.6627,  0.6627,  ...,  0.3804,  0.2471,  0.0902],\n",
       "          [ 0.6627,  0.6627,  0.6627,  ...,  0.3725,  0.2314,  0.0667]],\n",
       "\n",
       "         [[ 0.6078,  0.6078,  0.6078,  ...,  0.5843,  0.5843,  0.5765],\n",
       "          [ 0.6078,  0.6078,  0.6078,  ...,  0.5843,  0.5765,  0.5765],\n",
       "          [ 0.6078,  0.6078,  0.6078,  ...,  0.5843,  0.5843,  0.5765],\n",
       "          ...,\n",
       "          [ 0.6627,  0.6627,  0.6627,  ...,  0.2784,  0.1216, -0.0431],\n",
       "          [ 0.6627,  0.6627,  0.6627,  ...,  0.2627,  0.1137, -0.0588],\n",
       "          [ 0.6627,  0.6627,  0.6627,  ...,  0.2549,  0.0980, -0.0824]]]],\n",
       "       device='cuda:0')}"
      ]
     },
     "execution_count": 18,
     "metadata": {},
     "output_type": "execute_result"
    }
   ],
   "source": [
    "path = \"/home/saplab/thaiminhpv/EFISS/AI-model-query-service/trainer/notebooks/646281ba614eb20545359b00_5_shopee_midori_m4u_crop0.jpg\"\n",
    "img = cv2.imread(path)\n",
    "img = cv2.cvtColor(img, cv2.COLOR_BGR2RGB)\n",
    "inputs = processor(images=img, return_tensors=\"pt\")\n",
    "inputs['pixel_values'] = inputs['pixel_values'].to(device)\n",
    "inputs"
   ]
  },
  {
   "cell_type": "code",
   "execution_count": null,
   "metadata": {},
   "outputs": [
    {
     "data": {
      "text/plain": [
       "torch.Size([1, 3, 224, 224])"
      ]
     },
     "execution_count": 19,
     "metadata": {},
     "output_type": "execute_result"
    }
   ],
   "source": [
    "inputs['pixel_values'].shape"
   ]
  },
  {
   "cell_type": "code",
   "execution_count": null,
   "metadata": {},
   "outputs": [],
   "source": [
    "device = torch.device(\"cuda\" if torch.cuda.is_available() else \"cpu\")\n",
    "model.eval()\n",
    "model.to(device)\n",
    "with torch.no_grad():\n",
    "    logits = model(**inputs).logits"
   ]
  },
  {
   "cell_type": "code",
   "execution_count": null,
   "metadata": {},
   "outputs": [
    {
     "data": {
      "text/plain": [
       "torch.Size([1, 768])"
      ]
     },
     "execution_count": 22,
     "metadata": {},
     "output_type": "execute_result"
    }
   ],
   "source": [
    "logits.shape"
   ]
  },
  {
   "cell_type": "code",
   "execution_count": null,
   "metadata": {},
   "outputs": [],
   "source": [
    "D, I = index.search(logits.cpu().numpy(), 10)     # actual search"
   ]
  },
  {
   "cell_type": "code",
   "execution_count": null,
   "metadata": {},
   "outputs": [
    {
     "data": {
      "text/plain": [
       "array([[1097, 8920, 2417, 9370, 4875, 3611, 6287,  459, 9717, 1273]])"
      ]
     },
     "execution_count": 26,
     "metadata": {},
     "output_type": "execute_result"
    }
   ],
   "source": [
    "I"
   ]
  },
  {
   "cell_type": "code",
   "execution_count": null,
   "metadata": {},
   "outputs": [],
   "source": [
    "import matplotlib.pyplot as plt\n",
    "\n",
    "for i in I[0]:\n",
    "    file_path = df['img_path'].iloc[i]\n",
    "    print(file_path)\n",
    "    img = cv2.imread(file_path)\n",
    "    img = cv2.cvtColor(img, cv2.COLOR_BGR2RGB)\n",
    "    plt.imshow(img)\n",
    "    plt.show()"
   ]
  },
  {
   "cell_type": "code",
   "execution_count": null,
   "metadata": {},
   "outputs": [],
   "source": [
    "import matplotlib.pyplot as plt\n",
    "path = \"trainer/notebooks/356916625_658549589517565_6440707211788262324_n.jpg\"\n",
    "device = torch.device(\"cuda\" if torch.cuda.is_available() else \"cpu\")\n",
    "model.eval()\n",
    "model.to(device)\n",
    "\n",
    "def inference(path: str):\n",
    "    img = cv2.imread(path)\n",
    "    img = cv2.cvtColor(img, cv2.COLOR_BGR2RGB)\n",
    "    img = torch.Tensor(img).to(device)\n",
    "    inputs = processor(images=img, return_tensors=\"pt\")\n",
    "    inputs['pixel_values'] = inputs['pixel_values'].to(device)\n",
    "    print(inputs['pixel_values'].shape)\n",
    "    with torch.no_grad():\n",
    "        logits = model(**inputs).logits\n",
    "    print(logits.shape)\n",
    "    D, I = index.search(logits.cpu().numpy(), 10)     # actual search\n",
    "\n",
    "    plt.figure(figsize=(5, 5))\n",
    "    plt.imshow(img)\n",
    "    plt.title(\"Query image: \" + path)\n",
    "    plt.draw()\n",
    "\n",
    "    plt.figure(figsize=(20, 20))\n",
    "    plt.title(\"Result images\")\n",
    "    for i, e in enumerate(I[0]):\n",
    "        plt.subplot(1, 10, i + 1)\n",
    "        file_path = df['img_path'].iloc[e]\n",
    "        print(file_path)\n",
    "        img = cv2.imread(file_path)\n",
    "        img = cv2.cvtColor(img, cv2.COLOR_BGR2RGB)\n",
    "        plt.imshow(img)\n",
    "    plt.draw()\n",
    "inference(path)"
   ]
  },
  {
   "cell_type": "code",
   "execution_count": null,
   "metadata": {},
   "outputs": [],
   "source": []
  }
 ],
 "metadata": {
  "kernelspec": {
   "display_name": "thaiminhpv",
   "language": "python",
   "name": "python3"
  },
  "language_info": {
   "codemirror_mode": {
    "name": "ipython",
    "version": 3
   },
   "file_extension": ".py",
   "mimetype": "text/x-python",
   "name": "python",
   "nbconvert_exporter": "python",
   "pygments_lexer": "ipython3",
   "version": "3.9.12"
  },
  "orig_nbformat": 4
 },
 "nbformat": 4,
 "nbformat_minor": 2
}
