{
 "cells": [
  {
   "cell_type": "code",
   "execution_count": 1,
   "metadata": {},
   "outputs": [],
   "source": [
    "import json\n",
    "import random\n",
    "\n",
    "import matplotlib.pyplot as plt\n",
    "import matplotlib.gridspec as gridspec\n",
    "import numpy as np\n",
    "from PIL import Image\n",
    "import requests\n",
    "from io import BytesIO"
   ]
  },
  {
   "cell_type": "code",
   "execution_count": 2,
   "metadata": {},
   "outputs": [
    {
     "name": "stdout",
     "output_type": "stream",
     "text": [
      "{'_id': {'$oid': '6442e201824b1dd3a0b6f715'}, 'title': 'ÁO PHÔNG GRAPHIC INFINITEE 06', 'url': 'https://boo.vn/ao-phong-graphic-infinitee-06-1-2-02-3-18-012-222-23.html', 'images': ['https://storage.googleapis.com/efiss/data/product_images/boo.vn/6442e201824b1dd3a0b6f715_0_boo_vn.jpg', 'https://storage.googleapis.com/efiss/data/product_images/boo.vn/6442e201824b1dd3a0b6f715_1_boo_vn.jpg', 'https://storage.googleapis.com/efiss/data/product_images/boo.vn/6442e201824b1dd3a0b6f715_2_boo_vn.jpg'], 'group': 'boo.vn', 'categories': []}\n"
     ]
    }
   ],
   "source": [
    "# Read data from json file\n",
    "with open('../data/efiss.products.json') as f:\n",
    "    data = json.load(f)\n",
    "    \n",
    "# Print the first product\n",
    "print(data[0])"
   ]
  },
  {
   "cell_type": "code",
   "execution_count": null,
   "metadata": {},
   "outputs": [],
   "source": [
    "products = {}\n",
    "\n",
    "products_set = set()\n",
    "for product in data:\n",
    "\tif not 'group' in product or not 'categories' in product:\n",
    "\t\tcontinue\n",
    "\tshopName = product['group']\n",
    "\n",
    "\tif 'shopee-' in shopName:\n",
    "\t\tshopName = shopName[7:]\n",
    "\t\tproducts_set.add(shopName)\n",
    "\n",
    "# export to json\n",
    "with open('shopee_shop.json', 'w') as outfile:\n",
    "\tjson.dump(list(products_set), outfile)"
   ]
  }
 ],
 "metadata": {
  "kernelspec": {
   "display_name": "env",
   "language": "python",
   "name": "python3"
  },
  "language_info": {
   "codemirror_mode": {
    "name": "ipython",
    "version": 3
   },
   "file_extension": ".py",
   "mimetype": "text/x-python",
   "name": "python",
   "nbconvert_exporter": "python",
   "pygments_lexer": "ipython3",
   "version": "3.10.12"
  },
  "orig_nbformat": 4
 },
 "nbformat": 4,
 "nbformat_minor": 2
}
