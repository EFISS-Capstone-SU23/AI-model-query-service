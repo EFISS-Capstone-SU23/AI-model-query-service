{
 "cells": [
  {
   "cell_type": "code",
   "execution_count": 1,
   "metadata": {},
   "outputs": [
    {
     "name": "stdout",
     "output_type": "stream",
     "text": [
      "Requirement already satisfied: pymilvus in /home/thaiminhpv/anaconda3/envs/thaiminhpv-3.11/lib/python3.11/site-packages (2.2.14)\n",
      "Requirement already satisfied: opencv-python in /home/thaiminhpv/anaconda3/envs/thaiminhpv-3.11/lib/python3.11/site-packages (4.7.0.72)\n",
      "Requirement already satisfied: grpcio<=1.56.0,>=1.49.1 in /home/thaiminhpv/anaconda3/envs/thaiminhpv-3.11/lib/python3.11/site-packages (from pymilvus) (1.56.0)\n",
      "Requirement already satisfied: protobuf>=3.20.0 in /home/thaiminhpv/anaconda3/envs/thaiminhpv-3.11/lib/python3.11/site-packages (from pymilvus) (4.23.4)\n",
      "Requirement already satisfied: environs<=9.5.0 in /home/thaiminhpv/anaconda3/envs/thaiminhpv-3.11/lib/python3.11/site-packages (from pymilvus) (9.5.0)\n",
      "Requirement already satisfied: ujson>=2.0.0 in /home/thaiminhpv/anaconda3/envs/thaiminhpv-3.11/lib/python3.11/site-packages (from pymilvus) (5.8.0)\n",
      "Requirement already satisfied: pandas>=1.2.4 in /home/thaiminhpv/anaconda3/envs/thaiminhpv-3.11/lib/python3.11/site-packages (from pymilvus) (2.0.2)\n",
      "Requirement already satisfied: numpy>=1.21.2 in /home/thaiminhpv/anaconda3/envs/thaiminhpv-3.11/lib/python3.11/site-packages (from opencv-python) (1.24.1)\n",
      "Requirement already satisfied: marshmallow>=3.0.0 in /home/thaiminhpv/anaconda3/envs/thaiminhpv-3.11/lib/python3.11/site-packages (from environs<=9.5.0->pymilvus) (3.20.1)\n",
      "Requirement already satisfied: python-dotenv in /home/thaiminhpv/anaconda3/envs/thaiminhpv-3.11/lib/python3.11/site-packages (from environs<=9.5.0->pymilvus) (1.0.0)\n",
      "Requirement already satisfied: python-dateutil>=2.8.2 in /home/thaiminhpv/anaconda3/envs/thaiminhpv-3.11/lib/python3.11/site-packages (from pandas>=1.2.4->pymilvus) (2.8.2)\n",
      "Requirement already satisfied: pytz>=2020.1 in /home/thaiminhpv/anaconda3/envs/thaiminhpv-3.11/lib/python3.11/site-packages (from pandas>=1.2.4->pymilvus) (2023.3)\n",
      "Requirement already satisfied: tzdata>=2022.1 in /home/thaiminhpv/anaconda3/envs/thaiminhpv-3.11/lib/python3.11/site-packages (from pandas>=1.2.4->pymilvus) (2023.3)\n",
      "Requirement already satisfied: packaging>=17.0 in /home/thaiminhpv/anaconda3/envs/thaiminhpv-3.11/lib/python3.11/site-packages (from marshmallow>=3.0.0->environs<=9.5.0->pymilvus) (23.1)\n",
      "Requirement already satisfied: six>=1.5 in /home/thaiminhpv/anaconda3/envs/thaiminhpv-3.11/lib/python3.11/site-packages (from python-dateutil>=2.8.2->pandas>=1.2.4->pymilvus) (1.16.0)\n"
     ]
    },
    {
     "name": "stdout",
     "output_type": "stream",
     "text": [
      "Note: you may need to restart the kernel to use updated packages.\n"
     ]
    }
   ],
   "source": [
    "# %pip install pymilvus opencv-python"
   ]
  },
  {
   "cell_type": "code",
   "execution_count": 1,
   "metadata": {},
   "outputs": [],
   "source": [
    "import csv\n",
    "from glob import glob\n",
    "from pathlib import Path\n",
    "from statistics import mean\n",
    "\n",
    "# from towhee import pipe, ops, DataCollection\n",
    "from pymilvus import connections, FieldSchema, CollectionSchema, DataType, Collection, utility\n"
   ]
  },
  {
   "cell_type": "code",
   "execution_count": 2,
   "metadata": {},
   "outputs": [],
   "source": [
    "def create_milvus_collection(collection_name, dim):\n",
    "    if utility.has_collection(collection_name):\n",
    "        utility.drop_collection(collection_name)\n",
    "    \n",
    "    fields = [\n",
    "        FieldSchema(name='path', dtype=DataType.VARCHAR, description='path to image', max_length=500, \n",
    "                    is_primary=True, auto_id=False),\n",
    "        FieldSchema(name='embedding', dtype=DataType.FLOAT_VECTOR, description='image embedding vectors', dim=dim)\n",
    "    ]\n",
    "    schema = CollectionSchema(fields=fields, description='efiss-image-search')\n",
    "    collection = Collection(name=collection_name, schema=schema)\n",
    "\n",
    "    index_params = {\n",
    "        'metric_type': 'L2',\n",
    "        'index_type': 'FLAT',\n",
    "        'params': {\"nlist\": 2048}\n",
    "    }\n",
    "    collection.create_index(field_name='embedding', index_params=index_params)\n",
    "    return collection"
   ]
  },
  {
   "cell_type": "code",
   "execution_count": 2,
   "metadata": {},
   "outputs": [],
   "source": [
    "# connections.connect(host='localhost', port='19530')\n",
    "connections.connect(host='34.87.182.49', port='19530')"
   ]
  },
  {
   "cell_type": "code",
   "execution_count": 4,
   "metadata": {},
   "outputs": [],
   "source": [
    "collection = create_milvus_collection('efiss_image_search', 768)"
   ]
  },
  {
   "cell_type": "code",
   "execution_count": 5,
   "metadata": {},
   "outputs": [],
   "source": [
    "import torch\n",
    "\n",
    "embeddings = torch.load('/media/thaiminhpv/Storage/MinhFileServer/Public-Filebrowser/Uploads/EFISS/vit-embeddings.pt')"
   ]
  },
  {
   "cell_type": "code",
   "execution_count": 6,
   "metadata": {},
   "outputs": [],
   "source": [
    "import os\n",
    "import sys\n",
    "import pandas as pd\n",
    "\n",
    "df = []\n",
    "with open('/media/thaiminhpv/Storage/MinhFileServer/Public-Filebrowser/Uploads/EFISS/database_info.txt', 'r') as f:\n",
    "    for line in f.readlines():\n",
    "        df.append(line.strip())\n",
    "\n",
    "df = pd.DataFrame(df)"
   ]
  },
  {
   "cell_type": "code",
   "execution_count": 7,
   "metadata": {},
   "outputs": [
    {
     "data": {
      "text/html": [
       "<div>\n",
       "<style scoped>\n",
       "    .dataframe tbody tr th:only-of-type {\n",
       "        vertical-align: middle;\n",
       "    }\n",
       "\n",
       "    .dataframe tbody tr th {\n",
       "        vertical-align: top;\n",
       "    }\n",
       "\n",
       "    .dataframe thead th {\n",
       "        text-align: right;\n",
       "    }\n",
       "</style>\n",
       "<table border=\"1\" class=\"dataframe\">\n",
       "  <thead>\n",
       "    <tr style=\"text-align: right;\">\n",
       "      <th></th>\n",
       "      <th>0</th>\n",
       "    </tr>\n",
       "  </thead>\n",
       "  <tbody>\n",
       "    <tr>\n",
       "      <th>0</th>\n",
       "      <td>data/shopee_crop_yolo/images/6460ab0252e365505...</td>\n",
       "    </tr>\n",
       "    <tr>\n",
       "      <th>1</th>\n",
       "      <td>data/shopee_crop_yolo/images/6460ab0252e365505...</td>\n",
       "    </tr>\n",
       "    <tr>\n",
       "      <th>2</th>\n",
       "      <td>data/shopee_crop_yolo/images/6460ab0252e365505...</td>\n",
       "    </tr>\n",
       "    <tr>\n",
       "      <th>3</th>\n",
       "      <td>data/shopee_crop_yolo/images/6460ab0252e365505...</td>\n",
       "    </tr>\n",
       "    <tr>\n",
       "      <th>4</th>\n",
       "      <td>data/shopee_crop_yolo/images/6460ab0252e365505...</td>\n",
       "    </tr>\n",
       "    <tr>\n",
       "      <th>...</th>\n",
       "      <td>...</td>\n",
       "    </tr>\n",
       "    <tr>\n",
       "      <th>1347831</th>\n",
       "      <td>data/shopee_crop_yolo/images/6462d71a614eb2054...</td>\n",
       "    </tr>\n",
       "    <tr>\n",
       "      <th>1347832</th>\n",
       "      <td>data/shopee_crop_yolo/images/6462d71a614eb2054...</td>\n",
       "    </tr>\n",
       "    <tr>\n",
       "      <th>1347833</th>\n",
       "      <td>data/shopee_crop_yolo/images/6462d71a614eb2054...</td>\n",
       "    </tr>\n",
       "    <tr>\n",
       "      <th>1347834</th>\n",
       "      <td>data/shopee_crop_yolo/images/6462d71a614eb2054...</td>\n",
       "    </tr>\n",
       "    <tr>\n",
       "      <th>1347835</th>\n",
       "      <td>data/shopee_crop_yolo/images/6462d71a614eb2054...</td>\n",
       "    </tr>\n",
       "  </tbody>\n",
       "</table>\n",
       "<p>1347836 rows × 1 columns</p>\n",
       "</div>"
      ],
      "text/plain": [
       "                                                         0\n",
       "0        data/shopee_crop_yolo/images/6460ab0252e365505...\n",
       "1        data/shopee_crop_yolo/images/6460ab0252e365505...\n",
       "2        data/shopee_crop_yolo/images/6460ab0252e365505...\n",
       "3        data/shopee_crop_yolo/images/6460ab0252e365505...\n",
       "4        data/shopee_crop_yolo/images/6460ab0252e365505...\n",
       "...                                                    ...\n",
       "1347831  data/shopee_crop_yolo/images/6462d71a614eb2054...\n",
       "1347832  data/shopee_crop_yolo/images/6462d71a614eb2054...\n",
       "1347833  data/shopee_crop_yolo/images/6462d71a614eb2054...\n",
       "1347834  data/shopee_crop_yolo/images/6462d71a614eb2054...\n",
       "1347835  data/shopee_crop_yolo/images/6462d71a614eb2054...\n",
       "\n",
       "[1347836 rows x 1 columns]"
      ]
     },
     "execution_count": 7,
     "metadata": {},
     "output_type": "execute_result"
    }
   ],
   "source": [
    "df"
   ]
  },
  {
   "cell_type": "code",
   "execution_count": 8,
   "metadata": {},
   "outputs": [],
   "source": [
    "df[0] = df[0].str.replace('data/shopee_crop_yolo/', '')"
   ]
  },
  {
   "cell_type": "code",
   "execution_count": 9,
   "metadata": {},
   "outputs": [
    {
     "data": {
      "text/plain": [
       "((1000, 1), torch.Size([1000, 768]))"
      ]
     },
     "execution_count": 9,
     "metadata": {},
     "output_type": "execute_result"
    }
   ],
   "source": [
    "_df = df.iloc[:1000]\n",
    "_embeddings = embeddings[:1000, :]\n",
    "_df.shape, _embeddings.shape"
   ]
  },
  {
   "cell_type": "code",
   "execution_count": 10,
   "metadata": {},
   "outputs": [],
   "source": [
    "# collection.insert(data={\n",
    "#     \"path\": _df[0].values.tolist(),\n",
    "#     \"embedding\": _embeddings.cpu().numpy()\n",
    "# })"
   ]
  },
  {
   "cell_type": "code",
   "execution_count": 25,
   "metadata": {},
   "outputs": [
    {
     "data": {
      "text/plain": [
       "(insert count: 10, delete count: 0, upsert count: 0, timestamp: 443396698044366851, success count: 10, err count: 0)"
      ]
     },
     "execution_count": 25,
     "metadata": {},
     "output_type": "execute_result"
    }
   ],
   "source": [
    "collection.insert(data=[\n",
    "    _df[0].values.tolist()[:10],\n",
    "    _embeddings.cpu().numpy()[:10, :]\n",
    "])"
   ]
  },
  {
   "cell_type": "code",
   "execution_count": 11,
   "metadata": {},
   "outputs": [],
   "source": [
    "from tqdm import tqdm, trange"
   ]
  },
  {
   "cell_type": "code",
   "execution_count": 12,
   "metadata": {},
   "outputs": [
    {
     "name": "stderr",
     "output_type": "stream",
     "text": [
      "100%|██████████| 1348/1348 [08:59<00:00,  2.50it/s]\n"
     ]
    }
   ],
   "source": [
    "chunk_size = 1000\n",
    "\n",
    "# milvus insert chunk by chunk\n",
    "for i in trange(0, len(df), chunk_size):\n",
    "    collection.insert(data=[\n",
    "        df[0].iloc[i:i+chunk_size].values.tolist(),\n",
    "        embeddings[i:i+chunk_size].cpu().numpy()\n",
    "    ])"
   ]
  },
  {
   "cell_type": "code",
   "execution_count": 3,
   "metadata": {},
   "outputs": [],
   "source": [
    "collection = Collection(\"efiss_image_search\")"
   ]
  },
  {
   "cell_type": "code",
   "execution_count": 4,
   "metadata": {},
   "outputs": [],
   "source": [
    "collection.load()"
   ]
  },
  {
   "cell_type": "code",
   "execution_count": 6,
   "metadata": {},
   "outputs": [
    {
     "data": {
      "text/plain": [
       "1347836"
      ]
     },
     "execution_count": 6,
     "metadata": {},
     "output_type": "execute_result"
    }
   ],
   "source": [
    "collection.num_entities"
   ]
  },
  {
   "cell_type": "code",
   "execution_count": 7,
   "metadata": {},
   "outputs": [],
   "source": [
    "# len(collection.query(expr='path != \"milvus.ipynb\"'))"
   ]
  },
  {
   "cell_type": "code",
   "execution_count": 58,
   "metadata": {},
   "outputs": [],
   "source": [
    "result = collection.search(\n",
    "    data=[embeddings[10].cpu().numpy()],\n",
    "    anns_field=\"embedding\",\n",
    "    # expr=None,\n",
    "    param={\n",
    "        \"metric_type\": \"L2\", \n",
    "        # \"offset\": 5, \n",
    "        # \"ignore_growing\": False, \n",
    "        \"params\": {}\n",
    "        # \"params\": {\"nprobe\": 10}\n",
    "    },\n",
    "    limit=10000,\n",
    "    output_fields=['path'],\n",
    "    # consistency_level=\"Strong\"\n",
    ")"
   ]
  },
  {
   "cell_type": "code",
   "execution_count": 60,
   "metadata": {},
   "outputs": [
    {
     "data": {
      "text/plain": [
       "10000"
      ]
     },
     "execution_count": 60,
     "metadata": {},
     "output_type": "execute_result"
    }
   ],
   "source": [
    "len(result[0].distances)"
   ]
  },
  {
   "cell_type": "code",
   "execution_count": 31,
   "metadata": {},
   "outputs": [
    {
     "data": {
      "text/plain": [
       "str"
      ]
     },
     "execution_count": 31,
     "metadata": {},
     "output_type": "execute_result"
    }
   ],
   "source": [
    "type(result[0].ids[0])"
   ]
  },
  {
   "cell_type": "code",
   "execution_count": null,
   "metadata": {},
   "outputs": [],
   "source": []
  },
  {
   "cell_type": "code",
   "execution_count": 109,
   "metadata": {},
   "outputs": [
    {
     "data": {
      "text/plain": [
       "1000"
      ]
     },
     "execution_count": 109,
     "metadata": {},
     "output_type": "execute_result"
    }
   ],
   "source": [
    "len(result[0].distances)"
   ]
  },
  {
   "cell_type": "code",
   "execution_count": null,
   "metadata": {},
   "outputs": [],
   "source": []
  }
 ],
 "metadata": {
  "kernelspec": {
   "display_name": "thaiminhpv-3.11",
   "language": "python",
   "name": "python3"
  },
  "language_info": {
   "codemirror_mode": {
    "name": "ipython",
    "version": 3
   },
   "file_extension": ".py",
   "mimetype": "text/x-python",
   "name": "python",
   "nbconvert_exporter": "python",
   "pygments_lexer": "ipython3",
   "version": "3.11.4"
  },
  "orig_nbformat": 4
 },
 "nbformat": 4,
 "nbformat_minor": 2
}
