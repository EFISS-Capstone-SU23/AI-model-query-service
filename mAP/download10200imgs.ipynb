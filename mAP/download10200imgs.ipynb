{
 "cells": [
  {
   "cell_type": "code",
   "execution_count": 13,
   "id": "4bc41994-21c4-4811-b3d1-3caa7133dbee",
   "metadata": {},
   "outputs": [
    {
     "name": "stdout",
     "output_type": "stream",
     "text": [
      "['product_images/agstore.vn/64d322ce1c620faef16a9a7e_4_agstore_vn.jpg\\n', 'product_images/agstore.vn/64d322ce1c620faef16a9a7e_6_agstore_vn.jpg\\n', 'product_images/agstore.vn/64d322ce1c620faef16a9a7e_7_agstore_vn.jpg\\n', 'product_images/agstore.vn/64d322ce1c620faef16a9a7e_8_agstore_vn.jpg\\n', 'product_images/agstore.vn/64d322d01c620faef16a9a81_0_agstore_vn.jpg\\n', 'product_images/agstore.vn/64d322d01c620faef16a9a81_1_agstore_vn.jpg\\n', 'product_images/agstore.vn/64d322d01c620faef16a9a81_2_agstore_vn.jpg\\n', 'product_images/agstore.vn/64d322d01c620faef16a9a81_3_agstore_vn.jpg\\n', 'product_images/agstore.vn/64d322d01c620faef16a9a81_4_agstore_vn.jpg\\n', 'product_images/agstore.vn/64d322d01c620faef16a9a81_5_agstore_vn.jpg\\n']\n",
      "10200\n"
     ]
    }
   ],
   "source": [
    "with open('./top10200.txt', 'r') as file:\n",
    "    lst = file.readlines()\n",
    "print(lst[10:20])\n",
    "print(len(lst))"
   ]
  },
  {
   "cell_type": "code",
   "execution_count": 4,
   "id": "27fe675c-389d-4f83-89d1-8e3b4fc3ed80",
   "metadata": {},
   "outputs": [
    {
     "data": {
      "text/plain": [
       "'64d3265f1c620faef16aa0d3_0_agstore_vn.jpg\\n'"
      ]
     },
     "execution_count": 4,
     "metadata": {},
     "output_type": "execute_result"
    }
   ],
   "source": [
    "(prefix + 'product_images/agstore.vn/64d3265f1c620faef16aa0d3_0_agstore_vn.jpg\\n').split('/')[-1]"
   ]
  },
  {
   "cell_type": "code",
   "execution_count": 12,
   "id": "f9e069a7-a683-4ccd-ad66-ae7c87ec371c",
   "metadata": {},
   "outputs": [
    {
     "data": {
      "text/plain": [
       "0"
      ]
     },
     "execution_count": 12,
     "metadata": {},
     "output_type": "execute_result"
    }
   ],
   "source": [
    "import os\n",
    "len([file for file in os.listdir('images/') if file[:2]!='64' ])"
   ]
  },
  {
   "cell_type": "code",
   "execution_count": 14,
   "id": "b525582b-5c78-4698-9ee2-26c0857da2b5",
   "metadata": {},
   "outputs": [
    {
     "name": "stderr",
     "output_type": "stream",
     "text": [
      "100%|██████████████████████████████████████████████| 10200/10200 [46:24<00:00,  3.66it/s]\n"
     ]
    }
   ],
   "source": [
    "import urllib.request as ur\n",
    "from tqdm import tqdm\n",
    "prefix = 'https://data.efiss.tech/efiss/data/'\n",
    "for i in tqdm(lst):\n",
    "    url = prefix+i \n",
    "    save_path = 'images/'+url.split('/')[-1]\n",
    "    ur.urlretrieve(url, save_path)\n",
    "    # print(url)\n",
    "    # print(url[61:]) "
   ]
  }
 ],
 "metadata": {
  "kernelspec": {
   "display_name": "Python 3 (ipykernel)",
   "language": "python",
   "name": "python3"
  },
  "language_info": {
   "codemirror_mode": {
    "name": "ipython",
    "version": 3
   },
   "file_extension": ".py",
   "mimetype": "text/x-python",
   "name": "python",
   "nbconvert_exporter": "python",
   "pygments_lexer": "ipython3",
   "version": "3.11.4"
  }
 },
 "nbformat": 4,
 "nbformat_minor": 5
}
