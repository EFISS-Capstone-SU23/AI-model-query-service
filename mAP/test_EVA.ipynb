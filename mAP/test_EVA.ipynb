{
 "cells": [
  {
   "cell_type": "code",
   "execution_count": 49,
   "id": "85c16197-9642-4fe5-917d-2671cbf744db",
   "metadata": {},
   "outputs": [],
   "source": [
    "import torch\n",
    "from datasets import load_dataset\n",
    "import torch.nn as nn\n",
    "import os\n",
    "import numpy as np\n",
    "from tqdm import tqdm\n",
    "import matplotlib.pyplot as plt\n",
    "import timm\n",
    "from urllib.request import urlopen\n",
    "from PIL import Image"
   ]
  },
  {
   "cell_type": "code",
   "execution_count": 50,
   "id": "344d5aa2-67a5-4779-8493-9547b44f3eed",
   "metadata": {},
   "outputs": [
    {
     "name": "stdout",
     "output_type": "stream",
     "text": [
      "200\n",
      "10000\n",
      "['64d323101c620faef16a9afd_6_agstore_vn.jpg\\n', '64da9bac1c3e4f08a26d57d8_2_chicland_vn.jpg\\n', '64d25998c0c243fd215f711f_0_hhluxury_vn.jpg\\n', '64da8ec21c3e4f08a26d43a6_1_chicland_vn.jpg\\n', '64d3238a1c620faef16a9beb_5_agstore_vn.jpg\\n']\n"
     ]
    }
   ],
   "source": [
    "query_path = 'query_images/'\n",
    "query_files = os.listdir(query_path)\n",
    "print(len(query_files))\n",
    "\n",
    "retrieval_path = 'images/'\n",
    "retrieval_files = os.listdir(retrieval_path)\n",
    "print(len(retrieval_files))\n",
    "\n",
    "print(query_files[:5])"
   ]
  },
  {
   "cell_type": "code",
   "execution_count": 51,
   "id": "6d128597-527e-4909-a3c2-d26d3f11c626",
   "metadata": {},
   "outputs": [],
   "source": [
    "model = timm.create_model(\n",
    "            'eva02_base_patch14_448.mim_in22k_ft_in22k_in1k',\n",
    "            pretrained=True,\n",
    "            num_classes=0,  # remove classifier nn.Linear\n",
    "        )\n",
    "model = model.eval()\n",
    "data_config = timm.data.resolve_model_data_config(model)\n",
    "transforms = timm.data.create_transform(**data_config, is_training=False)"
   ]
  },
  {
   "cell_type": "code",
   "execution_count": 4,
   "id": "0ffb0b9e-97f7-4d13-a900-bc4484bdc028",
   "metadata": {
    "scrolled": true
   },
   "outputs": [],
   "source": [
    "# n_queries = len(query_files)\n",
    "# query_matrix = np.zeros((n_queries, 768))\n",
    "# for i in tqdm(range(n_queries)):\n",
    "#     img = Image.open(query_path+query_files[i]).convert('RGB')\n",
    "#     vector = model(transforms(img).unsqueeze(0)).detach().numpy()\n",
    "#     query_matrix[i, :] = vector    \n",
    "# print(query_matrix.shape)\n",
    "# print(query_matrix)"
   ]
  },
  {
   "cell_type": "code",
   "execution_count": 38,
   "id": "17405b42-e6fd-44d8-86f7-7056a2b1240d",
   "metadata": {},
   "outputs": [],
   "source": [
    "# np.save('EVA_query_matrix.npy', query_matrix)\n",
    "# np.save('query_labels.npy', query_files)"
   ]
  },
  {
   "cell_type": "code",
   "execution_count": 6,
   "id": "0570cd10-8bf2-4081-a725-292f41d1128b",
   "metadata": {},
   "outputs": [],
   "source": [
    "# loaded_matrix = np.load('EVA_query_matrix.npy')\n",
    "# print(loaded_matrix)\n",
    "# list_query_label = np.load('query_labels.npy')\n",
    "# list_query_label"
   ]
  },
  {
   "cell_type": "code",
   "execution_count": 5,
   "id": "069461a1-ccba-426a-bd8c-29e2a5e69823",
   "metadata": {},
   "outputs": [],
   "source": [
    "# n_retrievals = len(retrieval_files)\n",
    "# retrieval_matrix = np.zeros((n_retrievals, 768))\n",
    "# for i in tqdm(range(n_retrievals)):\n",
    "#     try:\n",
    "#         img = Image.open(retrieval_path+retrieval_files[i]).convert('RGB')\n",
    "#         vector = model(transforms(img).unsqueeze(0)).detach().numpy()\n",
    "#         retrieval_matrix[i, :] = vector\n",
    "#     except:\n",
    "#         retrieval_matrix[i, :] = np.zeros((1, 768))\n",
    "# np.save('EVA_retrieval_matrix.npy', retrieval_matrix)\n",
    "# np.save('retrieval_labels.npy', retrieval_files)\n",
    "# print(retrieval_matrix.shape)\n",
    "# retrieval_matrix"
   ]
  },
  {
   "cell_type": "code",
   "execution_count": 4,
   "id": "aaa8d084-c588-492e-b0ce-bbe1da482420",
   "metadata": {},
   "outputs": [
    {
     "data": {
      "text/plain": [
       "9"
      ]
     },
     "execution_count": 4,
     "metadata": {},
     "output_type": "execute_result"
    }
   ],
   "source": [
    "# matrix = np.load('EVA_retrieval_matrix.npy')\n",
    "# # print(np.where(matrix==np.zeros((1, 768))))\n",
    "# # matrix[9695:9699, :]\n",
    "# np.sum(np.all(matrix == np.zeros((1, 768)), axis=1))\n",
    "'''\n",
    "ERROR INDEX\n",
    "(9, [2749, 3952, 4893, 5296, 6288, 8028, 8463, 8735, 9697])\n",
    "'''"
   ]
  },
  {
   "cell_type": "code",
   "execution_count": 52,
   "id": "380546b1-ba6c-4651-9621-648fc54dd9d1",
   "metadata": {},
   "outputs": [],
   "source": [
    "def calc_Euclid_dist(B1, B2):\n",
    "    # B1 = query_matrix\n",
    "    # B2 = retrieval_matrix\n",
    "    distances = np.zeros((B1.shape[0], B2.shape[0]))\n",
    "    for i in range(200):\n",
    "        distances[i, :] = np.sum((B1[i] - B2)**2, axis = 1)\n",
    "    distances = distances**0.5\n",
    "    return distances\n",
    "def get_topk(B1, B2, topk): # get topk idx\n",
    "    ind = np.argsort(calc_Euclid_dist(B1, B2))\n",
    "    ids = np.array(range(B2.shape[0]))\n",
    "    ids = ids[ind]\n",
    "    return ids[:, :topk]\n",
    "def get_L2(B1, B2, topk): # get topk labels\n",
    "    ids = list(get_topk(B1, B2, topk))\n",
    "    topk_labels = retrieval_labels[ids]\n",
    "    # L2 = [[img_vector_lst[j][0] for j in i] for i in ids] #[[arr[j] for j in i] for i in idx]\n",
    "    # print(topk_labels)\n",
    "    return topk_labels\n",
    "\n",
    "def calc_topk_mAP_2(B1, B2, L1, topk): \n",
    "    '''\n",
    "    B1: query matrix\n",
    "    B2: retrieval matrix\n",
    "    L1: labels of query images\n",
    "    topk: k\n",
    "    '''\n",
    "    topk_retrievals = get_L2(B1, B2, topk)\n",
    "    topk_mAP = 0\n",
    "    num_query = B1.shape[0]\n",
    "    # fig, axes = plt.subplots(num_query, topk+1, figsize=(12, 8))\n",
    "    for iter in tqdm(range(num_query)):\n",
    "        true_label = L1[iter].split('_')\n",
    "        true_idx = []\n",
    "        # axes[iter, 0].imshow(plt.imread('query_images/'+L1[iter]))\n",
    "        # axes[iter, 0].axis('off')\n",
    "        for i in range(topk):\n",
    "            # axes[iter, i+1].imshow(plt.imread('images/'+topk_retrievals[iter][i]))\n",
    "            # axes[iter, i+1].axis('off')\n",
    "            if topk_retrievals[iter][i].split('_')[0] == true_label[0]:\n",
    "                true_idx.append(i+1)\n",
    "        true_idx = np.array(true_idx)\n",
    "        # true_idx = (np.asarray(np.where(L2[ids][iter, :]==true_label)) + 1).ravel()\n",
    "        # print('true_idx', true_idx)\n",
    "        if true_idx.shape[0] == 0:\n",
    "            continue\n",
    "        count = np.linspace(1, true_idx.shape[0], true_idx.shape[0])\n",
    "        # print('count', count)\n",
    "        topk_mAP_ = np.mean(count/true_idx)\n",
    "        # print('topk_mAP_:', topk_mAP_)\n",
    "        # print('==========================================')\n",
    "        topk_mAP += topk_mAP_\n",
    "    # plt.tight_layout()  # Ensure subplots do not overlap\n",
    "    # plt.show()\n",
    "    topk_mAP /= num_query\n",
    "    # print('=====================================================================')\n",
    "    # print('topk_mAP', topk_mAP)\n",
    "    return topk_mAP "
   ]
  },
  {
   "cell_type": "code",
   "execution_count": 53,
   "id": "44253af0-12b1-4e36-bd3a-c364fc401067",
   "metadata": {},
   "outputs": [
    {
     "data": {
      "text/plain": [
       "((200, 768), (200,), (10000, 768), (10000,))"
      ]
     },
     "execution_count": 53,
     "metadata": {},
     "output_type": "execute_result"
    }
   ],
   "source": [
    "query_matrix = np.load('EVA_query_matrix.npy')\n",
    "query_labels = np.load('query_labels.npy')\n",
    "retrieval_matrix = np.load('EVA_retrieval_matrix.npy')\n",
    "retrieval_labels = np.load('retrieval_labels.npy')\n",
    "query_matrix.shape, query_labels.shape, retrieval_matrix.shape, retrieval_labels.shape\n"
   ]
  },
  {
   "cell_type": "code",
   "execution_count": 54,
   "id": "01467cb8-1139-4db3-9e5b-65d861e371c3",
   "metadata": {},
   "outputs": [
    {
     "data": {
      "text/plain": [
       "((9991, 768), (9991,))"
      ]
     },
     "execution_count": 54,
     "metadata": {},
     "output_type": "execute_result"
    }
   ],
   "source": [
    "error_idx = [2749, 3952, 4893, 5296, 6288, 8028, 8463, 8735, 9697]\n",
    "retrieval_matrix =  np.delete(retrieval_matrix , error_idx, axis=0) \n",
    "retrieval_labels = np.delete(retrieval_labels , error_idx, axis=0) \n",
    "retrieval_matrix.shape, retrieval_labels.shape"
   ]
  },
  {
   "cell_type": "code",
   "execution_count": 57,
   "id": "bc003f2e-825c-4a72-b832-69b93407f7f4",
   "metadata": {},
   "outputs": [
    {
     "name": "stdout",
     "output_type": "stream",
     "text": [
      "EVA mAP: \n"
     ]
    },
    {
     "name": "stderr",
     "output_type": "stream",
     "text": [
      "100%|██████████████████████████████████████████████| 200/200 [00:00<00:00, 118149.41it/s]\n"
     ]
    },
    {
     "name": "stdout",
     "output_type": "stream",
     "text": [
      "mAP@1: 0.64\n"
     ]
    },
    {
     "name": "stderr",
     "output_type": "stream",
     "text": [
      "100%|███████████████████████████████████████████████| 200/200 [00:00<00:00, 73590.74it/s]\n"
     ]
    },
    {
     "name": "stdout",
     "output_type": "stream",
     "text": [
      "mAP@5: 0.7287499999999999\n"
     ]
    },
    {
     "name": "stderr",
     "output_type": "stream",
     "text": [
      "100%|███████████████████████████████████████████████| 200/200 [00:00<00:00, 60963.72it/s]\n"
     ]
    },
    {
     "name": "stdout",
     "output_type": "stream",
     "text": [
      "mAP@10: 0.7082451388888892\n"
     ]
    },
    {
     "name": "stderr",
     "output_type": "stream",
     "text": [
      "100%|███████████████████████████████████████████████| 200/200 [00:00<00:00, 46929.28it/s]\n"
     ]
    },
    {
     "name": "stdout",
     "output_type": "stream",
     "text": [
      "mAP@20: 0.681655298767922\n"
     ]
    },
    {
     "name": "stderr",
     "output_type": "stream",
     "text": [
      "100%|███████████████████████████████████████████████| 200/200 [00:00<00:00, 20053.09it/s]\n"
     ]
    },
    {
     "name": "stdout",
     "output_type": "stream",
     "text": [
      "mAP@100: 0.6083424157548639\n"
     ]
    },
    {
     "name": "stderr",
     "output_type": "stream",
     "text": [
      "100%|████████████████████████████████████████████████| 200/200 [00:00<00:00, 2287.31it/s]\n"
     ]
    },
    {
     "name": "stdout",
     "output_type": "stream",
     "text": [
      "mAP@1000: 0.524433552314303\n"
     ]
    },
    {
     "name": "stderr",
     "output_type": "stream",
     "text": [
      "100%|█████████████████████████████████████████████████| 200/200 [00:00<00:00, 238.95it/s]"
     ]
    },
    {
     "name": "stdout",
     "output_type": "stream",
     "text": [
      "mAP@9991: 0.4255778898918473\n"
     ]
    },
    {
     "name": "stderr",
     "output_type": "stream",
     "text": [
      "\n"
     ]
    }
   ],
   "source": [
    "topk_lst = [1, 5, 10, 20, 100, 1000,retrieval_labels.shape[0]]\n",
    "print('EVA mAP: ')\n",
    "for i in topk_lst:\n",
    "    print(f'mAP@{i}:', calc_topk_mAP_2(query_matrix, retrieval_matrix, query_labels, i))"
   ]
  }
 ],
 "metadata": {
  "kernelspec": {
   "display_name": "Python 3 (ipykernel)",
   "language": "python",
   "name": "python3"
  },
  "language_info": {
   "codemirror_mode": {
    "name": "ipython",
    "version": 3
   },
   "file_extension": ".py",
   "mimetype": "text/x-python",
   "name": "python",
   "nbconvert_exporter": "python",
   "pygments_lexer": "ipython3",
   "version": "3.11.4"
  }
 },
 "nbformat": 4,
 "nbformat_minor": 5
}
